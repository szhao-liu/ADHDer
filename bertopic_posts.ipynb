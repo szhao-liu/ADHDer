{
 "cells": [
  {
   "cell_type": "code",
   "execution_count": 1,
   "id": "83914914",
   "metadata": {},
   "outputs": [
    {
     "name": "stderr",
     "output_type": "stream",
     "text": [
      "/Users/celia/Documents/Documents/Professional/UMN/2024-2025/6 SICSS-Stanford/ADHDer/path/to/venv/lib/python3.13/site-packages/hdbscan/plots.py:448: SyntaxWarning: invalid escape sequence '\\l'\n",
      "  axis.set_ylabel('$\\lambda$ value')\n",
      "/Users/celia/Documents/Documents/Professional/UMN/2024-2025/6 SICSS-Stanford/ADHDer/path/to/venv/lib/python3.13/site-packages/hdbscan/robust_single_linkage_.py:175: SyntaxWarning: invalid escape sequence '\\{'\n",
      "  $max \\{ core_k(a), core_k(b), 1/\\alpha d(a,b) \\}$.\n",
      "/Users/celia/Documents/Documents/Professional/UMN/2024-2025/6 SICSS-Stanford/ADHDer/path/to/venv/lib/python3.13/site-packages/tqdm/auto.py:21: TqdmWarning: IProgress not found. Please update jupyter and ipywidgets. See https://ipywidgets.readthedocs.io/en/stable/user_install.html\n",
      "  from .autonotebook import tqdm as notebook_tqdm\n"
     ]
    }
   ],
   "source": [
    "from bertopic import BERTopic\n",
    "import pandas as pd\n",
    "import re"
   ]
  },
  {
   "cell_type": "code",
   "execution_count": 2,
   "id": "61991e19",
   "metadata": {},
   "outputs": [],
   "source": [
    "df = pd.read_csv(\"ADHD_top1000posts_2020-03-01_2025-08-01.csv\")\n",
    "\n",
    "# append title with post_text as docs\n",
    "# some post_text are missing, we will fill them with the title\n",
    "df['docs'] = df['title'] + \" \" + df['post_text'].fillna('')"
   ]
  },
  {
   "cell_type": "code",
   "execution_count": 3,
   "id": "526906c3",
   "metadata": {},
   "outputs": [],
   "source": [
    "def preprocess_text(text: str) -> str:\n",
    "    # remove URLs\n",
    "    text = re.sub(r'http\\S+|www\\S+|https\\S+', '', text, flags=re.MULTILINE)\n",
    "    # remove \\n\n",
    "    text = re.sub(r'\\n+', ' ', text)\n",
    "    return text\n",
    "\n",
    "docs = df['docs'].apply(preprocess_text).to_list()"
   ]
  },
  {
   "cell_type": "code",
   "execution_count": 4,
   "id": "98664c15",
   "metadata": {},
   "outputs": [],
   "source": [
    "from sklearn.feature_extraction.text import CountVectorizer\n",
    "\n",
    "vectorizer_model = CountVectorizer(stop_words=\"english\")"
   ]
  },
  {
   "cell_type": "code",
   "execution_count": 11,
   "id": "ee1bf244",
   "metadata": {},
   "outputs": [
    {
     "name": "stderr",
     "output_type": "stream",
     "text": [
      "2025-08-13 10:06:05,473 - BERTopic - Embedding - Transforming documents to embeddings.\n",
      "Batches: 100%|██████████| 30/30 [00:08<00:00,  3.58it/s]\n",
      "2025-08-13 10:06:17,634 - BERTopic - Embedding - Completed ✓\n",
      "2025-08-13 10:06:17,635 - BERTopic - Dimensionality - Fitting the dimensionality reduction algorithm\n",
      "2025-08-13 10:06:18,860 - BERTopic - Dimensionality - Completed ✓\n",
      "2025-08-13 10:06:18,861 - BERTopic - Cluster - Start clustering the reduced embeddings\n",
      "2025-08-13 10:06:18,909 - BERTopic - Cluster - Completed ✓\n",
      "2025-08-13 10:06:18,918 - BERTopic - Representation - Fine-tuning topics using representation models.\n",
      "2025-08-13 10:06:19,078 - BERTopic - Representation - Completed ✓\n"
     ]
    }
   ],
   "source": [
    "topic_model = BERTopic(\n",
    "    vectorizer_model = vectorizer_model,\n",
    "    verbose = True\n",
    ")\n",
    "\n",
    "topics, probs = topic_model.fit_transform(docs)"
   ]
  },
  {
   "cell_type": "code",
   "execution_count": 12,
   "id": "78cbc4d3",
   "metadata": {},
   "outputs": [
    {
     "name": "stdout",
     "output_type": "stream",
     "text": [
      "    Topic  Count                                   Name  \\\n",
      "0      -1    361                   -1_just_im_adhd_like   \n",
      "1       0    127                     0_im_just_like_day   \n",
      "2       1    109              1_adhd_medication_fuck_im   \n",
      "3       2     69                2_adhd_people_just_like   \n",
      "4       3     56                    3_just_like_im_adhd   \n",
      "5       4     54                   4_just_like_say_read   \n",
      "6       5     52                  5_got_school_im_years   \n",
      "7       6     24                    6_adhd_just_im_said   \n",
      "8       7     23                  7_im_people_dont_like   \n",
      "9       8     19         8_clothes_shower_cleaning_room   \n",
      "10      9     18              9_watch_watching_movie_tv   \n",
      "11     10     14         10_teeth_brushing_brush_dental   \n",
      "12     11     10  11_emotions_adhd_emotional_depression   \n",
      "\n",
      "                                       Representation  \\\n",
      "0   [just, im, adhd, like, dont, time, things, kno...   \n",
      "1   [im, just, like, day, doing, work, time, dont,...   \n",
      "2   [adhd, medication, fuck, im, just, meds, docto...   \n",
      "3   [adhd, people, just, like, dont, things, time,...   \n",
      "4   [just, like, im, adhd, things, dont, people, t...   \n",
      "5   [just, like, say, read, im, adhd, thoughts, wo...   \n",
      "6   [got, school, im, years, proud, guys, finished...   \n",
      "7   [adhd, just, im, said, girlfriend, shes, dont,...   \n",
      "8   [im, people, dont, like, just, miss, forget, f...   \n",
      "9   [clothes, shower, cleaning, room, clean, knive...   \n",
      "10  [watch, watching, movie, tv, just, videos, you...   \n",
      "11  [teeth, brushing, brush, dental, days, dentist...   \n",
      "12  [emotions, adhd, emotional, depression, dysreg...   \n",
      "\n",
      "                                  Representative_Docs  \n",
      "0   [Helpful and specific ADHD college tips that h...  \n",
      "1   [I‘m wasting my life doing nothing because eve...  \n",
      "2   [Travel Guide on bringing in Methylphenidate/C...  \n",
      "3   [If there was a cure for ADHD would you take i...  \n",
      "4   [I’ve found the perfect ADHD-friendly career a...  \n",
      "5   [Why is talking so FUCKING difficult  It happe...  \n",
      "6   [I just got a six figures job! Since things ar...  \n",
      "7   [My new gf made me tear up after explaining my...  \n",
      "8   [I don’t miss people I don’t know how to expla...  \n",
      "9   [Found an ADHD cleaning hack that has dramatic...  \n",
      "10  [Do you not watch movies because the idea of c...  \n",
      "11  [PLEASE BRUSH YOUR TEETH I know it can be hard...  \n",
      "12  [By far the worst thing about ADHD is the inab...  \n",
      "[('im', np.float64(0.042855363510562496)), ('just', np.float64(0.038638015373083236)), ('like', np.float64(0.032512826759808516)), ('day', np.float64(0.03178595754698313)), ('doing', np.float64(0.030744277037102734)), ('work', np.float64(0.029109784811564756)), ('time', np.float64(0.028276370571070845)), ('dont', np.float64(0.027757439270063092)), ('feel', np.float64(0.02443975263278503)), ('know', np.float64(0.023616126393796674))]\n"
     ]
    },
    {
     "ename": "ValueError",
     "evalue": "\nImage export using the \"kaleido\" engine requires the Kaleido package,\nwhich can be installed using pip:\n\n    $ pip install --upgrade kaleido\n",
     "output_type": "error",
     "traceback": [
      "\u001b[31m---------------------------------------------------------------------------\u001b[39m",
      "\u001b[31mValueError\u001b[39m                                Traceback (most recent call last)",
      "\u001b[36mCell\u001b[39m\u001b[36m \u001b[39m\u001b[32mIn[12]\u001b[39m\u001b[32m, line 8\u001b[39m\n\u001b[32m      5\u001b[39m \u001b[38;5;28mprint\u001b[39m(topic_model.get_topic(\u001b[32m0\u001b[39m))\n\u001b[32m      7\u001b[39m fig = topic_model.visualize_topics()\n\u001b[32m----> \u001b[39m\u001b[32m8\u001b[39m \u001b[43mfig\u001b[49m\u001b[43m.\u001b[49m\u001b[43mwrite_image\u001b[49m\u001b[43m(\u001b[49m\u001b[33;43m\"\u001b[39;49m\u001b[33;43mtopics.png\u001b[39;49m\u001b[33;43m\"\u001b[39;49m\u001b[43m)\u001b[49m\n",
      "\u001b[36mFile \u001b[39m\u001b[32m~/Documents/Documents/Professional/UMN/2024-2025/6 SICSS-Stanford/ADHDer/path/to/venv/lib/python3.13/site-packages/plotly/basedatatypes.py:3895\u001b[39m, in \u001b[36mBaseFigure.write_image\u001b[39m\u001b[34m(self, *args, **kwargs)\u001b[39m\n\u001b[32m   3891\u001b[39m     \u001b[38;5;28;01mif\u001b[39;00m kwargs.get(\u001b[33m\"\u001b[39m\u001b[33mengine\u001b[39m\u001b[33m\"\u001b[39m, \u001b[38;5;28;01mNone\u001b[39;00m):\n\u001b[32m   3892\u001b[39m         warnings.warn(\n\u001b[32m   3893\u001b[39m             ENGINE_PARAM_DEPRECATION_MSG, \u001b[38;5;167;01mDeprecationWarning\u001b[39;00m, stacklevel=\u001b[32m2\u001b[39m\n\u001b[32m   3894\u001b[39m         )\n\u001b[32m-> \u001b[39m\u001b[32m3895\u001b[39m \u001b[38;5;28;01mreturn\u001b[39;00m \u001b[43mpio\u001b[49m\u001b[43m.\u001b[49m\u001b[43mwrite_image\u001b[49m\u001b[43m(\u001b[49m\u001b[38;5;28;43mself\u001b[39;49m\u001b[43m,\u001b[49m\u001b[43m \u001b[49m\u001b[43m*\u001b[49m\u001b[43margs\u001b[49m\u001b[43m,\u001b[49m\u001b[43m \u001b[49m\u001b[43m*\u001b[49m\u001b[43m*\u001b[49m\u001b[43mkwargs\u001b[49m\u001b[43m)\u001b[49m\n",
      "\u001b[36mFile \u001b[39m\u001b[32m~/Documents/Documents/Professional/UMN/2024-2025/6 SICSS-Stanford/ADHDer/path/to/venv/lib/python3.13/site-packages/plotly/io/_kaleido.py:510\u001b[39m, in \u001b[36mwrite_image\u001b[39m\u001b[34m(fig, file, format, scale, width, height, validate, engine)\u001b[39m\n\u001b[32m    506\u001b[39m \u001b[38;5;28mformat\u001b[39m = infer_format(path, \u001b[38;5;28mformat\u001b[39m)\n\u001b[32m    508\u001b[39m \u001b[38;5;66;03m# Request image\u001b[39;00m\n\u001b[32m    509\u001b[39m \u001b[38;5;66;03m# Do this first so we don't create a file if image conversion fails\u001b[39;00m\n\u001b[32m--> \u001b[39m\u001b[32m510\u001b[39m img_data = \u001b[43mto_image\u001b[49m\u001b[43m(\u001b[49m\n\u001b[32m    511\u001b[39m \u001b[43m    \u001b[49m\u001b[43mfig\u001b[49m\u001b[43m,\u001b[49m\n\u001b[32m    512\u001b[39m \u001b[43m    \u001b[49m\u001b[38;5;28;43mformat\u001b[39;49m\u001b[43m=\u001b[49m\u001b[38;5;28;43mformat\u001b[39;49m\u001b[43m,\u001b[49m\n\u001b[32m    513\u001b[39m \u001b[43m    \u001b[49m\u001b[43mscale\u001b[49m\u001b[43m=\u001b[49m\u001b[43mscale\u001b[49m\u001b[43m,\u001b[49m\n\u001b[32m    514\u001b[39m \u001b[43m    \u001b[49m\u001b[43mwidth\u001b[49m\u001b[43m=\u001b[49m\u001b[43mwidth\u001b[49m\u001b[43m,\u001b[49m\n\u001b[32m    515\u001b[39m \u001b[43m    \u001b[49m\u001b[43mheight\u001b[49m\u001b[43m=\u001b[49m\u001b[43mheight\u001b[49m\u001b[43m,\u001b[49m\n\u001b[32m    516\u001b[39m \u001b[43m    \u001b[49m\u001b[43mvalidate\u001b[49m\u001b[43m=\u001b[49m\u001b[43mvalidate\u001b[49m\u001b[43m,\u001b[49m\n\u001b[32m    517\u001b[39m \u001b[43m    \u001b[49m\u001b[43mengine\u001b[49m\u001b[43m=\u001b[49m\u001b[43mengine\u001b[49m\u001b[43m,\u001b[49m\n\u001b[32m    518\u001b[39m \u001b[43m\u001b[49m\u001b[43m)\u001b[49m\n\u001b[32m    520\u001b[39m \u001b[38;5;66;03m# Open file\u001b[39;00m\n\u001b[32m    521\u001b[39m \u001b[38;5;28;01mif\u001b[39;00m path \u001b[38;5;129;01mis\u001b[39;00m \u001b[38;5;28;01mNone\u001b[39;00m:\n\u001b[32m    522\u001b[39m     \u001b[38;5;66;03m# We previously failed to make sense of `file` as a pathlib object.\u001b[39;00m\n\u001b[32m    523\u001b[39m     \u001b[38;5;66;03m# Attempt to write to `file` as an open file descriptor.\u001b[39;00m\n",
      "\u001b[36mFile \u001b[39m\u001b[32m~/Documents/Documents/Professional/UMN/2024-2025/6 SICSS-Stanford/ADHDer/path/to/venv/lib/python3.13/site-packages/plotly/io/_kaleido.py:345\u001b[39m, in \u001b[36mto_image\u001b[39m\u001b[34m(fig, format, width, height, scale, validate, engine)\u001b[39m\n\u001b[32m    343\u001b[39m     \u001b[38;5;66;03m# Raise informative error message if Kaleido is not installed\u001b[39;00m\n\u001b[32m    344\u001b[39m     \u001b[38;5;28;01mif\u001b[39;00m \u001b[38;5;129;01mnot\u001b[39;00m kaleido_available():\n\u001b[32m--> \u001b[39m\u001b[32m345\u001b[39m         \u001b[38;5;28;01mraise\u001b[39;00m \u001b[38;5;167;01mValueError\u001b[39;00m(\n\u001b[32m    346\u001b[39m \u001b[38;5;250m            \u001b[39m\u001b[33;03m\"\"\"\u001b[39;00m\n\u001b[32m    347\u001b[39m \u001b[33;03mImage export using the \"kaleido\" engine requires the Kaleido package,\u001b[39;00m\n\u001b[32m    348\u001b[39m \u001b[33;03mwhich can be installed using pip:\u001b[39;00m\n\u001b[32m    349\u001b[39m \n\u001b[32m    350\u001b[39m \u001b[33;03m    $ pip install --upgrade kaleido\u001b[39;00m\n\u001b[32m    351\u001b[39m \u001b[33;03m\"\"\"\u001b[39;00m\n\u001b[32m    352\u001b[39m         )\n\u001b[32m    354\u001b[39m     \u001b[38;5;66;03m# Convert figure to dict (and validate if requested)\u001b[39;00m\n\u001b[32m    355\u001b[39m     fig_dict = validate_coerce_fig_to_dict(fig, validate)\n",
      "\u001b[31mValueError\u001b[39m: \nImage export using the \"kaleido\" engine requires the Kaleido package,\nwhich can be installed using pip:\n\n    $ pip install --upgrade kaleido\n"
     ]
    }
   ],
   "source": [
    "# frequent topics\n",
    "print(topic_model.get_topic_info())\n",
    "\n",
    "# view topic 0\n",
    "print(topic_model.get_topic(0))\n",
    "\n",
    "fig = topic_model.visualize_topics()\n",
    "fig.write_image(\"topics.png\")"
   ]
  }
 ],
 "metadata": {
  "kernelspec": {
   "display_name": "venv",
   "language": "python",
   "name": "python3"
  },
  "language_info": {
   "codemirror_mode": {
    "name": "ipython",
    "version": 3
   },
   "file_extension": ".py",
   "mimetype": "text/x-python",
   "name": "python",
   "nbconvert_exporter": "python",
   "pygments_lexer": "ipython3",
   "version": "3.13.5"
  }
 },
 "nbformat": 4,
 "nbformat_minor": 5
}
